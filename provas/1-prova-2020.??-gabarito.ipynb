{
 "cells": [
  {
   "cell_type": "markdown",
   "metadata": {},
   "source": [
    "# 1ª Avaliação de Aprendizagem de Máquina - 12/11/2020\n",
    "\n"
   ]
  },
  {
   "cell_type": "markdown",
   "metadata": {},
   "source": [
    "   * Nome: \\_\\_\\_\\_\\_\\_\\_\\_\\_\\_\\_\\_\\_\\_\\_\\_\\_\\_\\_\\_\\_\\_\\_\\_\\_\\_\\_\\_\\_\\_\\_\\_\\_\\_\\_\\_\\_\\_\\_\\_\\_\\_\\_\\_\\_\\_\\_\\_\\_\\_\\_\\_\n",
    "   * Matrícula: \\_\\_\\_\\_\\_\\_\\_\\_\\_\\_\\_\\_\\_\\_\\_\\_\\_\\_\\_\\_\\_\\_\\_\\_\\_\\_\\_\\_\\_\\_\\_\\_\\_\\_\\_\\_\\_\\_\\_\\_\\_\\_\\_\\_\\_\\_\\_\\_\\_"
   ]
  },
  {
   "cell_type": "markdown",
   "metadata": {},
   "source": [
    "## Base de dados\n",
    "\n",
    "Acesse [https://tmfilho.github.io/akcdata/](https://tmfilho.github.io/akcdata/) e baixe a base de dados sobre as 277 raças de cachorros registradas no _American Kennel Club_. O conjunto contém 20 atributos de diferentes tipos, incluindo atributos textuais, numéricos e categóricos. Altura ( _Height_ ), peso ( _weight_ ) e expectativa de vida ( _life expectancy_ ) aparecem como intervalos \\[min, max\\]. A tabela abaixo é uma versão traduzida da tabela do site.\n",
    "\n",
    "\n",
    "|  #  | atributo | descrição | exemplo |\n",
    "| --- | ------ | ----------- | ------- |\n",
    "|  1  | description | 1 a 3 parágrafos descrevendo a raça | \"Akitas are burly, heavy-boned spitz-type dogs of imposing stature...\" |\n",
    "|  2  | temperament | temperamento da raça descrito em palavras-chave | \"Confident, Famously Funny, Fearless\" |\n",
    "|  3  | popularity  | ranking de popularidade da raça (1-195) | 13 |\n",
    "|  4  | min_height  | altura mínima em cm | 60.96 |\n",
    "|  5  | max_height  | altura máxima em cm | 71.12 |\n",
    "|  6  | min_weight  | peso mínimo em kg | 3.18 |\n",
    "|  7  | max_weight  | peso máximo em kg | 4.54 |\n",
    "|  8  | min_expectancy  | expectativa de vida mínima em anos | 10 |\n",
    "|  9  | max_expectancy  | expectativa de vida máxima em anos | 12 |\n",
    "|  10  | group  | um de 9 grupos designados pelo AKC (7 grupos principais e 2 extras para raças novas ou que não se ajustam ainda a um grupo clássico) | \"Herding Group\" |\n",
    "|  11  | grooming_frequency_value  | Um número que representa a frequência de cuidados com o pelo | 0.4 |\n",
    "|  12  | grooming_frequency_category  | Categorização dos cuidados com o pelo | \"Weekly Brushing\" |\n",
    "|  13  | shedding_value  | Um número que representa a frequência de perda de pelo | 0.6 |\n",
    "|  14  | shedding_category  | Categorização da perda de pelos | \"Seasonal\" |\n",
    "|  15  | energy_level_value  | Um número que representa o nível de energia da raça | 0.8 |\n",
    "|  16  | energy_level_category  | Categorização do nível de energia | \"Energetic\" |\n",
    "|  17  | trainability_value  | Um número que representa a facilidade de treinar a raça | 1.0 |\n",
    "|  18  | trainability_category  | Uma categorização da facilidade de treinamento | \"Eager to Please\" |\n",
    "|  19  | demeanor_value  | Um número que representa a reação da raça a pessoas estranhas e outros animais | 0.6 |\n",
    "|  20  | demeanor_category  | Categorização da reação da raça a pessoas estranhas e outros animais | \"Alert/Responsive\" |\n"
   ]
  },
  {
   "cell_type": "markdown",
   "metadata": {},
   "source": [
    "**Questão 1 (1,0 ponto)** É possível extrair tarefas de classificação ou de regressão dessa base? Que variáveis poderiam ser alvos nessas tarefas e quais seriam os atributos/variáveis independentes? **Ainda não vimos processamento de linguagem, então podem desconsiderar a variável description**."
   ]
  },
  {
   "cell_type": "markdown",
   "metadata": {},
   "source": [
    "**Classificação:**\n",
    "  1. Alvo: Grupo; Atributos: todas as outras variáveis\n",
    "  \n",
    "**Regressão:**\n",
    "  1. Alvo: Popularidade; Variáveis Independentes: categorias de temperamento transformadas em variáveis binárias, mínimo e máximo de altura, peso e expectativa de vida, grooming_frequency_value, shedding_value, energy_level_value, trainability_value, demeanor_value\n",
    "  2. Alvo: Expectativa de vida (média); Variáveis Independentes: altura média e peso médio\n"
   ]
  },
  {
   "cell_type": "markdown",
   "metadata": {},
   "source": [
    "**Questão 2 (1,0 ponto)** Como você trataria as variáveis categóricas nessas tarefas? Faça esse tratamento e mostre a DataFrame resultante."
   ]
  },
  {
   "cell_type": "code",
   "execution_count": null,
   "metadata": {},
   "outputs": [],
   "source": [
    "pass"
   ]
  },
  {
   "cell_type": "markdown",
   "metadata": {},
   "source": [
    "**Questão 3 (1,0 ponto)** As variáveis tem escalas diferentes. Como você trataria essa situação para não prejudicar o desempenho de modelos que são sensíveis a isso? Faça esse tratamento e mostre a DataFrame resultante."
   ]
  },
  {
   "cell_type": "code",
   "execution_count": null,
   "metadata": {},
   "outputs": [],
   "source": [
    "pass"
   ]
  },
  {
   "cell_type": "markdown",
   "metadata": {},
   "source": [
    "**Questão 4 (1,5 ponto)** Suponha uma tarefa que envolva predizer a popularidade de uma raça. Essa é uma tarefa de regressão ou de classificação? Selecione atributos para usar como variáveis independentes nessa tarefa. Faça uma análise de importância das variáveis realizando testes de coeficientes do ajuste linear e usando os valores de importância dados por um modelo de árvore de decisão. Note que alguns valores podem estar faltando para certas raças. **Pode usar bibliotecas relevantes. Não é necessário implementar do zero**."
   ]
  },
  {
   "cell_type": "code",
   "execution_count": null,
   "metadata": {},
   "outputs": [],
   "source": [
    "pass"
   ]
  },
  {
   "cell_type": "markdown",
   "metadata": {},
   "source": [
    "**Questão 5 (2,0 pontos)** Faça uma avaliação de desempenho dos modelos que vimos até agora no curso, considerando a tarefa de predizer a popularidade da raça e usando validação cruzada."
   ]
  },
  {
   "cell_type": "code",
   "execution_count": null,
   "metadata": {},
   "outputs": [],
   "source": [
    "pass"
   ]
  },
  {
   "cell_type": "markdown",
   "metadata": {},
   "source": [
    "**Questão 6 (1,5 pontos)** Suponha uma tarefa que envolva predizer o grupo de uma raça. Essa é uma tarefa de regressão ou de classificação? Selecione variáveis para usar como atributos nessa tarefa. Faça uma análise de importância das variáveis realizando testes de coeficientes do ajuste linear e usando os valores de importância dados por um modelo de árvore de decisão. **Pode usar bibliotecas relevantes. Não é necessário implementar do zero**. Nota: as classes _Foundation Stock Service_ e _Miscellaneous Class_ são classes não-descritivas e podem ser desconsideradas."
   ]
  },
  {
   "cell_type": "code",
   "execution_count": null,
   "metadata": {},
   "outputs": [],
   "source": [
    "pass"
   ]
  },
  {
   "cell_type": "markdown",
   "metadata": {},
   "source": [
    "**Questão 7 (2,0 ponto)** Faça uma avaliação de desempenho dos modelos que vimos até agora no curso, considerando a tarefa de predizer o grupo da raça e usando validação cruzada. Avalie acurácia e precisão e cobertura por classe. Mostre a matriz de confusão do melhor de todos os modelos ajustados durante a validação cruzada."
   ]
  },
  {
   "cell_type": "code",
   "execution_count": null,
   "metadata": {},
   "outputs": [],
   "source": [
    "pass"
   ]
  }
 ],
 "metadata": {
  "kernelspec": {
   "display_name": "Python 3",
   "language": "python",
   "name": "python3"
  },
  "language_info": {
   "codemirror_mode": {
    "name": "ipython",
    "version": 3
   },
   "file_extension": ".py",
   "mimetype": "text/x-python",
   "name": "python",
   "nbconvert_exporter": "python",
   "pygments_lexer": "ipython3",
   "version": "3.7.3"
  }
 },
 "nbformat": 4,
 "nbformat_minor": 2
}
