{
 "cells": [
  {
   "cell_type": "markdown",
   "metadata": {},
   "source": [
    "# 1ª Avaliação de Aprendizagem de Máquina - 04/10/2021"
   ]
  },
  {
   "cell_type": "markdown",
   "metadata": {},
   "source": [
    "   * Nome: \\_\\_\\_\\_\\_\\_\\_\\_\\_\\_\\_\\_\\_\\_\\_\\_\\_\\_\\_\\_\\_\\_\\_\\_\\_\\_\\_\\_\\_\\_\\_\\_\\_\\_\\_\\_\\_\\_\\_\\_\\_\\_\\_\\_\\_\\_\\_\\_\\_\\_\\_\\_\n",
    "   * Matrícula: \\_\\_\\_\\_\\_\\_\\_\\_\\_\\_\\_\\_\\_\\_\\_\\_\\_\\_\\_\\_\\_\\_\\_\\_\\_\\_\\_\\_\\_\\_\\_\\_\\_\\_\\_\\_\\_\\_\\_\\_\\_\\_\\_\\_\\_\\_\\_\\_\\_"
   ]
  },
  {
   "cell_type": "markdown",
   "metadata": {},
   "source": [
    "A prova abaixo é individual e pode ser resolvida em qualquer linguagem de programação. As respostas devem ser entregues dentro de uma semana (11/10/2021) em um zip contendo: a) pdf com formato de notebook; b) o arquivo do notebook em si; e c) o(s) arquivo(s) da base de dados. Ou seja, se a prova for respondida em Python, o zip conterá o jupyter notebook exportado como pdf, o arquivo .ipynb e o(s) arquivo(s) da base escolhida.\n",
    "\n",
    "## Base de dados\n",
    "\n",
    "Escolha uma base de dados entre as disponíveis em [https://www.kaggle.com/datasets](https://www.kaggle.com/datasets). A base deve conter pelo menos 1000 instâncias e variáveis quantitativas e qualitativas (pelo menos 10 variáveis de um dos dois tipos), sem contar o(s) rótulo(s).\n"
   ]
  },
  {
   "cell_type": "markdown",
   "metadata": {},
   "source": [
    "**Questão 1 (1,0 ponto)** É possível extrair tarefas de classificação ou de regressão dessa base (além do(s) rótulo(s))? Que variáveis poderiam ser alvos nessas tarefas e quais seriam os atributos/variáveis independentes?"
   ]
  },
  {
   "cell_type": "code",
   "execution_count": null,
   "metadata": {},
   "outputs": [],
   "source": [
    "pass"
   ]
  },
  {
   "cell_type": "markdown",
   "metadata": {},
   "source": [
    "**Questão 2 (2,0 pontos)** Como você trataria as variáveis categóricas nessas tarefas? Faça esse tratamento e mostre a DataFrame resultante."
   ]
  },
  {
   "cell_type": "code",
   "execution_count": null,
   "metadata": {},
   "outputs": [],
   "source": [
    "pass"
   ]
  },
  {
   "cell_type": "markdown",
   "metadata": {},
   "source": [
    "**Questão 3 (2,0 pontos)** As variáveis tem escalas diferentes? Como você trataria essa situação para não prejudicar o desempenho de modelos que são sensíveis a isso? Faça esse tratamento e mostre a DataFrame resultante."
   ]
  },
  {
   "cell_type": "code",
   "execution_count": null,
   "metadata": {},
   "outputs": [],
   "source": [
    "pass"
   ]
  },
  {
   "cell_type": "markdown",
   "metadata": {},
   "source": [
    "**Questão 4 (2,0 pontos)** O(s) rótulo(s) da base correspondem a tarefa(s) de regressão ou de classificação? Selecione atributos para usar como variáveis independentes nessa tarefa. Faça uma análise de importância das variáveis realizando testes de coeficientes do ajuste linear e usando os valores de importância dados por um modelo de árvore de decisão. Se houver valores faltantes, trate essa situação. **Pode usar bibliotecas relevantes. Não é necessário implementar do zero**."
   ]
  },
  {
   "cell_type": "code",
   "execution_count": null,
   "metadata": {},
   "outputs": [],
   "source": [
    "pass"
   ]
  },
  {
   "cell_type": "markdown",
   "metadata": {},
   "source": [
    "**Questão 5 (3,0 pontos)** Faça uma avaliação de desempenho dos modelos que vimos até agora no curso, considerando a tarefa de predição da questão 4 e usando validação cruzada. Se a tarefa for de classificação, mostre resultados segundo acurácia, precisão (por classe) e cobertura (por classe). Se a tarefa for de regressão, apresente os resultados segundo o MAE. Qual modelo se saiu melhor? Por que?"
   ]
  },
  {
   "cell_type": "code",
   "execution_count": null,
   "metadata": {},
   "outputs": [],
   "source": [
    "pass"
   ]
  }
 ],
 "metadata": {
  "kernelspec": {
   "display_name": "Python 3",
   "language": "python",
   "name": "python3"
  },
  "language_info": {
   "codemirror_mode": {
    "name": "ipython",
    "version": 3
   },
   "file_extension": ".py",
   "mimetype": "text/x-python",
   "name": "python",
   "nbconvert_exporter": "python",
   "pygments_lexer": "ipython3",
   "version": "3.7.3"
  }
 },
 "nbformat": 4,
 "nbformat_minor": 2
}
